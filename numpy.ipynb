{
 "cells": [
  {
   "cell_type": "code",
   "execution_count": 1,
   "metadata": {},
   "outputs": [],
   "source": [
    "import numpy as np"
   ]
  },
  {
   "cell_type": "markdown",
   "metadata": {},
   "source": [
    "# ndarray\n"
   ]
  },
  {
   "cell_type": "markdown",
   "metadata": {},
   "source": [
    "## 常用属性\n",
    "\n",
    "| 属性 | 说明 |\n",
    "| - | - |\n",
    "| ndim | 秩 |\n",
    "| shape | 维度 |\n",
    "| size | 元素数量 |\n",
    "| dtype | 数据类型 |\n",
    "<!-- | itemsize | 每个元素大小 |\n",
    "| nbytes | 总大小 | -->\n"
   ]
  },
  {
   "cell_type": "markdown",
   "metadata": {
    "tags": []
   },
   "source": [
    "## 常用数据类型\n",
    "\n",
    "| 名称 | 描述 |\n",
    "| ---- | ---- |\n",
    "| bool | 用一个字节存储的布尔类型(True或False) |\n",
    "| inti | 由所在平台决定器大小的整数 |\n",
    "| int8 | 8位整数($-2^7$ ~ $2^7-1$) |\n",
    "| int16 | 16位整数($-2^{15}$ ~ $2^{15}-1$) |\n",
    "| int32 | 32位整数($2^{31}$ ~ $2^{31}-1$) |\n",
    "| int64 | 64位整数($2^{63}$ ~ $2^{63}-1$) |\n",
    "| uint8 | 无符号整数(0 ~ $2^8-1$) |\n",
    "| uint16 | 无符号整数(0 ~ $2^{16}-1$) |\n",
    "| uint32 | 无符号整数(0 ~ $2^{32}-1$) | \n",
    "| uint64 | 无符号整数(0 ~ $2^{64}-1$) |\n",
    "| float16 | 半精度浮点数: 16位，正负号1位，指数5位，精度10位 |\n",
    "| float32 | 单精度浮点数: 32位，正负号1位，指数8位，精度23位 |\n",
    "| float64 或 float | 双精度浮点数: 64位，正负号1位，指数11位，精度52位 |\n",
    "| complex64 | 复数，分别用两个32位浮点数表示实部和虚部 |\n",
    "| complex128 或 complex | 复数，分别用两个64位浮点数表示实部和虚部 |\n"
   ]
  },
  {
   "cell_type": "markdown",
   "metadata": {},
   "source": [
    "## 数组创建\n"
   ]
  },
  {
   "cell_type": "markdown",
   "metadata": {},
   "source": [
    "### array()\n",
    "\n",
    "用列表、元组等类型创建\n"
   ]
  },
  {
   "cell_type": "code",
   "execution_count": 2,
   "metadata": {},
   "outputs": [
    {
     "name": "stdout",
     "output_type": "stream",
     "text": [
      "[1 2 3]\n"
     ]
    }
   ],
   "source": [
    "arr = np.array([1, 2, 3])\n",
    "print(arr)"
   ]
  },
  {
   "cell_type": "markdown",
   "metadata": {},
   "source": [
    "### arange()\n"
   ]
  },
  {
   "cell_type": "code",
   "execution_count": 3,
   "metadata": {},
   "outputs": [
    {
     "name": "stdout",
     "output_type": "stream",
     "text": [
      "[ 1.   3.5  6.   8.5 11.  13.5 16.  18.5 21. ]\n"
     ]
    }
   ],
   "source": [
    "arr = np.arange(1, 22, 2.5)\n",
    "print(arr)"
   ]
  },
  {
   "cell_type": "markdown",
   "metadata": {},
   "source": [
    "### random\n"
   ]
  },
  {
   "cell_type": "code",
   "execution_count": 4,
   "metadata": {},
   "outputs": [
    {
     "name": "stdout",
     "output_type": "stream",
     "text": [
      "[[18 20 13 27]\n",
      " [23 14 15  8]\n",
      " [16 23 19 38]]\n"
     ]
    }
   ],
   "source": [
    "arr = np.random.randint(1, 50, size=[3, 4])\n",
    "print(arr)"
   ]
  },
  {
   "cell_type": "markdown",
   "metadata": {},
   "source": [
    "### csv读取\n",
    "\n",
    " `np.loadtxt(frame,dtype,delimiter,skiprows)`\n",
    "\n",
    "* frame: 文件、字符串或产生器，可以是.gz等压缩文件\n",
    "* dtype: 数据类型，（如：int , float等）\n",
    "* delimiter: 分割字符串，通常用逗号\n",
    "* skiprows: 跳过前n行, 默认读取所有行\t\n"
   ]
  },
  {
   "cell_type": "code",
   "execution_count": 5,
   "metadata": {},
   "outputs": [
    {
     "name": "stdout",
     "output_type": "stream",
     "text": [
      "[['1' '2' '4']\n",
      " ['1233' 'asd' 'qwrer']\n",
      " ['123' '1233.3' '324.1']]\n"
     ]
    }
   ],
   "source": [
    "# 手动指定类型为str\n",
    "arr = np.loadtxt('a.csv', delimiter=',', encoding='utf-8',\n",
    "                 dtype=bytes).astype(str)\n",
    "print(arr)"
   ]
  },
  {
   "cell_type": "markdown",
   "metadata": {},
   "source": [
    "### 其他定义方式\n",
    "\n",
    "| 方法 | 说明 |\n",
    "| -- | ---- |\n",
    "| np.ones(shape) | 根据shape生成一个全1的数组，shape是元组类型 |\n",
    "| np.zeros(shape) | 根据shape生成一个全0的数组，shape是元组类型 |\n",
    "| np.empty(shape) | 根据shape生成一个空数组，shape是元组类型 |\n",
    "| np.full(shape, fill_value) | 根据shape生成一个全fill_value的数组，shape是元组类型 |\n",
    "| np.eye(N) | 生成一个N阶单位矩阵(对角线上为1) |\n",
    "| np.linspace(start, stop, num, endpoint, retstep=False, dtype=None) | 生成一个等差数列，start是起始值，stop是结束值，num是生成的数组的长度，endpoint是是否包含stop值，retstep是是否返回步长，dtype是数组的数据类型 |\n",
    "| np.logspace(start, stop, num, endpoint, base, dtype=None) | 生成一个等比数列，start是起始值，stop是结束值，num是生成的数组的长度，endpoint是是否包含stop值，base是底数，dtype是数组的数据类型 |\n",
    "| np.concatenate((a1, a2, ...), axis=0) | 将多个数组沿着axis轴进行拼接，axis=0表示按列拼接，axis=1表示按行拼接 |\n"
   ]
  },
  {
   "cell_type": "code",
   "execution_count": 6,
   "metadata": {},
   "outputs": [
    {
     "name": "stdout",
     "output_type": "stream",
     "text": [
      "[[1. 1. 1. 1.]\n",
      " [1. 1. 1. 1.]\n",
      " [1. 1. 1. 1.]] \n",
      "\n",
      "[[0 0 0 0]\n",
      " [0 0 0 0]\n",
      " [0 0 0 0]] \n",
      "\n",
      "[[0 0 0 0]\n",
      " [0 0 0 0]\n",
      " [0 0 0 0]] \n",
      "\n",
      "[[5 5 5 5]\n",
      " [5 5 5 5]\n",
      " [5 5 5 5]] \n",
      "\n",
      "[[1. 0. 0.]\n",
      " [0. 1. 0.]\n",
      " [0. 0. 1.]] \n",
      "\n",
      "[ 1.    3.25  5.5   7.75 10.  ] \n",
      "\n",
      "[   2.            9.51365692   45.254834    215.2694823  1024.        ] \n",
      "\n",
      "[[1 2 3]\n",
      " [4 5 6]\n",
      " [1 2 3]\n",
      " [4 5 6]] \n",
      "\n",
      "[[1 2 3 1 2 3]\n",
      " [4 5 6 4 5 6]\n",
      " [1 2 3 1 2 3]\n",
      " [4 5 6 4 5 6]] \n",
      "\n"
     ]
    }
   ],
   "source": [
    "arr = np.ones((3, 4))\n",
    "print(arr, '\\n')\n",
    "\n",
    "arr = np.zeros((3, 4), dtype=np.int64)\n",
    "print(arr, '\\n')\n",
    "\n",
    "np.empty((3, 4))\n",
    "print(arr, '\\n')\n",
    "\n",
    "arr = np.full((3, 4), 5)\n",
    "print(arr, '\\n')\n",
    "\n",
    "arr = np.eye(3)\n",
    "print(arr, '\\n')\n",
    "\n",
    "arr = np.linspace(1, 10, 5)\n",
    "print(arr, '\\n')\n",
    "\n",
    "arr = np.logspace(1, 10, 5, base=2)\n",
    "print(arr, '\\n')\n",
    "\n",
    "arr = np.array([[1, 2, 3], [4, 5, 6]])\n",
    "arr = np.concatenate((arr, arr), axis=0)\n",
    "print(arr, '\\n')\n",
    "\n",
    "arr = np.concatenate((arr, arr), axis=1)\n",
    "print(arr, '\\n')"
   ]
  },
  {
   "cell_type": "markdown",
   "metadata": {},
   "source": [
    "## 数组操作\n"
   ]
  },
  {
   "cell_type": "markdown",
   "metadata": {},
   "source": [
    "### 索引"
   ]
  },
  {
   "cell_type": "code",
   "execution_count": 7,
   "metadata": {},
   "outputs": [
    {
     "name": "stdout",
     "output_type": "stream",
     "text": [
      "[1 2 3 1 2 3] \n",
      "\n",
      "2 \n",
      "\n"
     ]
    }
   ],
   "source": [
    "print(arr[2], '\\n')\n",
    "\n",
    "print(arr[2][1], '\\n')"
   ]
  },
  {
   "cell_type": "markdown",
   "metadata": {},
   "source": [
    "### 切片\n",
    "\n",
    "获取数组元素子集，方法[start: end: step]\n",
    "\n",
    "取值时包含start索引值，但不包含end索引值\n"
   ]
  },
  {
   "cell_type": "code",
   "execution_count": 8,
   "metadata": {},
   "outputs": [
    {
     "name": "stdout",
     "output_type": "stream",
     "text": [
      "[[3 4]\n",
      " [5 6]] \n",
      "\n"
     ]
    }
   ],
   "source": [
    "arr = np.array([[1, 2, 3, 4, 5, 6], [2, 3, 4, 5, 6, 7], [3, 4, 5, 6, 7, 8],\n",
    "                [4, 5, 6, 7, 8, 9], [5, 6, 7, 8, 9, 10]])\n",
    "\n",
    "print(arr[1:6:2, 1:3], '\\n')"
   ]
  },
  {
   "cell_type": "markdown",
   "metadata": {},
   "source": [
    "### 类型转换\n",
    "\n",
    " `np.astype(dtype)`\n"
   ]
  },
  {
   "cell_type": "code",
   "execution_count": 9,
   "metadata": {},
   "outputs": [
    {
     "name": "stdout",
     "output_type": "stream",
     "text": [
      "int32 \n",
      "\n",
      "<U11 \n",
      "\n",
      "[['1' '2' '3' '4' '5' '6']\n",
      " ['2' '3' '4' '5' '6' '7']\n",
      " ['3' '4' '5' '6' '7' '8']\n",
      " ['4' '5' '6' '7' '8' '9']\n",
      " ['5' '6' '7' '8' '9' '10']] \n",
      "\n"
     ]
    }
   ],
   "source": [
    "print(arr.dtype, '\\n')\n",
    "\n",
    "arr = arr.astype(str)\n",
    "print(arr.dtype, '\\n')\n",
    "print(arr, '\\n')"
   ]
  },
  {
   "cell_type": "markdown",
   "metadata": {},
   "source": [
    "## 数值计算\n",
    "\n",
    "| 函数 | 说明 |\n",
    "| ------------ | ------------------------- |\n",
    "| sum(axis=None) | 根据给定轴axis计算数据相关元素之和 |\n",
    "| mean(axis=None) | 根据给定轴axis计算数据相关元素的均值 |\n",
    "| std(axis=None) | 根据给定轴axis计算数据相关元素的方差 |\n",
    "| var(axis=None) | 根据给定轴axis计算数据相关元素的方差 |\n",
    "| min(axis=None) | 根据给定轴axis计算数据相关元素的最小值 |\n",
    "| max(axis=None) | 根据给定轴axis计算数据相关元素的最大值 |\n",
    "| argmin(axis=None) | 根据给定轴axis计算数据相关元素的最小值的索引值 |\n",
    "| argmax(axis=None) | 根据给定轴axis计算数据相关元素的最大值的索引值 |\n",
    "| histogram(arr, bins, range, weights, density) | 直方图统计<br/>bins 指定统计的区间个数<br/>range 表示统计范围的最小值和最大值的元组<br/>weights 为数组的每个元素指定了权值<br/>density 为True时，返回每个区间的概率密度；为False，返回每个区间中元素的个数 |\n"
   ]
  },
  {
   "cell_type": "code",
   "execution_count": 10,
   "metadata": {},
   "outputs": [
    {
     "name": "stdout",
     "output_type": "stream",
     "text": [
      "[[13  2  3  4]\n",
      " [ 5  6  7  8]\n",
      " [ 9 10 11 12]] \n",
      "\n",
      "sum: \t 90\n",
      "mean: \t [9. 6. 7. 8.]\n",
      "std: \t [4.38748219 1.11803399 1.11803399]\n",
      "var: \t 11.916666666666666\n",
      "min: \t [5 2 3 4]\n",
      "max: \t [13  8 12]\n",
      "argmin: \t [1 0 0 0]\n",
      "argmax: \t [0 3 3]\n",
      "histogram: \thits: \t [2 4 5]\n",
      "\t\tbins: \t [ 0.  4.  8. 12.]\n"
     ]
    }
   ],
   "source": [
    "arr = np.array([[13, 2, 3, 4], (5, 6, 7, 8), (9, 10, 11, 12)])\n",
    "print(arr, '\\n')\n",
    "\n",
    "print('sum: \\t', np.sum(arr))\n",
    "print('mean: \\t', np.mean(arr, axis=0))\n",
    "print('std: \\t', np.std(arr, axis=1))\n",
    "print('var: \\t', arr.var())\n",
    "print('min: \\t', arr.min(axis=0))\n",
    "print('max: \\t', arr.max(axis=1))\n",
    "print('argmin: \\t', arr.argmin(axis=0))\n",
    "print('argmax: \\t', arr.argmax(axis=1))\n",
    "\n",
    "# 将arr中0-12的所有数划分成3个区间 返回统计个数数组hits，区间划分情况数组bins（每个区间左闭右开，最后有一个区间全闭）\n",
    "hits, bins = np.histogram(arr, bins=3, range=(0, 12))\n",
    "print('histogram: \\thits: \\t', hits)\n",
    "print('\\t\\tbins: \\t', bins)\n"
   ]
  }
 ],
 "metadata": {
  "kernelspec": {
   "display_name": "Python 3",
   "language": "python",
   "name": "python3"
  },
  "language_info": {
   "codemirror_mode": {
    "name": "ipython",
    "version": 3
   },
   "file_extension": ".py",
   "mimetype": "text/x-python",
   "name": "python",
   "nbconvert_exporter": "python",
   "pygments_lexer": "ipython3",
   "version": "3.10.4"
  }
 },
 "nbformat": 4,
 "nbformat_minor": 2
}
